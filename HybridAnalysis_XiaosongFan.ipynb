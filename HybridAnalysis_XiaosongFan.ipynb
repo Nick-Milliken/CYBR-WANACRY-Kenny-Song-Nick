{
 "cells": [
  {
   "cell_type": "markdown",
   "metadata": {},
   "source": [
    "# Hybrid Analysis - Xiaosong Fan"
   ]
  },
  {
   "cell_type": "markdown",
   "metadata": {},
   "source": [
    "## Part 1 Data pull and cleaning\n",
    "\n",
    "#### Note: This part is the same as the teammates, Kenny Freeman and Nick Milliken"
   ]
  },
  {
   "cell_type": "markdown",
   "metadata": {},
   "source": [
    "### Part 1.1 Pull data from Hybrid-Analysis using their API"
   ]
  },
  {
   "cell_type": "code",
   "execution_count": 1,
   "metadata": {},
   "outputs": [],
   "source": [
    "## Install packages needed\n",
    "\n",
    "import requests\n",
    "import json"
   ]
  },
  {
   "cell_type": "code",
   "execution_count": 2,
   "metadata": {},
   "outputs": [],
   "source": [
    "## Set headers for the API request by using the API key\n",
    "\n",
    "parameters = {\n",
    "    \"api-key\": \"f0jtgssd0030dedffaykvu292a02bc3bmysu5csi9cc32e08ckfuqwdx55d35a29\",\n",
    "    \"accept-encoding\" : \"gzip\",\n",
    "    \"user-agent\" : \"Falcon Sandbox\"\n",
    "}"
   ]
  },
  {
   "cell_type": "code",
   "execution_count": 54,
   "metadata": {
    "scrolled": true
   },
   "outputs": [],
   "source": [
    "## Pull from Hybrid-Analysis public feed and save it to a variable response\n",
    "\n",
    "response = requests.get(\"https://www.hybrid-analysis.com/feed?json\", headers=parameters)"
   ]
  },
  {
   "cell_type": "code",
   "execution_count": 55,
   "metadata": {},
   "outputs": [
    {
     "name": "stdout",
     "output_type": "stream",
     "text": [
      "response code:  200 content length is  2269485\n"
     ]
    }
   ],
   "source": [
    "## Let's take a loot at the json file, just generalinformation of its size\n",
    "## log out the return code and any headers - not required for this problem but useful\n",
    "\n",
    "print(\"response code: \", response.status_code, \"content length is \", len(response.content))\n",
    "\n",
    "## The code below can be used to look more details of the pulled data\n",
    "## print(\"headers: \", json.dumps(response.headers.__dict__, sort_keys=True, indent=4))"
   ]
  },
  {
   "cell_type": "code",
   "execution_count": 56,
   "metadata": {
    "scrolled": true
   },
   "outputs": [
    {
     "name": "stdout",
     "output_type": "stream",
     "text": [
      "All the keys in the data are: dict_keys(['md5', 'sha1', 'sha256', 'tags', 'isinteresting', 'analysis_start_time', 'threatscore', 'threatlevel', 'threatlevel_human', 'avdetect', 'isunknown', 'vxfamily', 'submitname', 'isurlanalysis', 'size', 'type', 'environmentId', 'environmentDescription', 'sharedanalysis', 'isreliable', 'reporturl', 'vt_detect', 'ms_detect', 'process_list', 'extracted_files', 'ssdeep'])\n"
     ]
    }
   ],
   "source": [
    "## Read the json file and save it to a list \"datasets\"\n",
    "\n",
    "json_response = response.json()\n",
    "datasets = json_response['data']\n",
    "\n",
    "## Let's take a look of all the fields in the data\n",
    "print (\"All the keys in the data are:\", datasets[0].keys())"
   ]
  },
  {
   "cell_type": "code",
   "execution_count": 57,
   "metadata": {},
   "outputs": [
    {
     "data": {
      "text/plain": [
       "[{'md5': 'e98a1f9d441d358a6d72cbcb9430304e',\n",
       "  'sha1': '6c13ad2faff3cc1123e733068f2d329f31fbd4ab',\n",
       "  'sha256': '37c3e4de51e4bd7021603408318082eef14258f67c95418db8fc4fb5701e42ca',\n",
       "  'tags': ['evasive'],\n",
       "  'isinteresting': False,\n",
       "  'analysis_start_time': '2021-04-29 00:51:03',\n",
       "  'threatscore': 100,\n",
       "  'threatlevel': 2,\n",
       "  'threatlevel_human': 'malicious',\n",
       "  'avdetect': 15,\n",
       "  'isunknown': False,\n",
       "  'vxfamily': 'BehavesLike.Win64.Generic',\n",
       "  'submitname': 'ECLIPSE.exe',\n",
       "  'isurlanalysis': False,\n",
       "  'size': 11389952,\n",
       "  'type': 'PE32+ executable (GUI) x86-64, for MS Windows',\n",
       "  'environmentId': '120',\n",
       "  'environmentDescription': 'Windows 7 64 bit',\n",
       "  'sharedanalysis': False,\n",
       "  'isreliable': True,\n",
       "  'reporturl': '/sample/37c3e4de51e4bd7021603408318082eef14258f67c95418db8fc4fb5701e42ca/608a02e9700a0c46e77b06a4',\n",
       "  'vt_detect': 15,\n",
       "  'ms_detect': 15,\n",
       "  'process_list': [{'uid': '00065000-00003856',\n",
       "    'name': 'ECLIPSE.exe',\n",
       "    'normalizedpath': 'C:\\\\ECLIPSE.exe',\n",
       "    'commandline': '',\n",
       "    'sha256': '37c3e4de51e4bd7021603408318082eef14258f67c95418db8fc4fb5701e42ca',\n",
       "    'av_label': 'BehavesLike.Win64.Generic',\n",
       "    'av_matched': 11,\n",
       "    'av_total': 69}],\n",
       "  'extracted_files': [],\n",
       "  'ssdeep': '196608:54e7L+x12zXvqk3CrEU1poDtAeP84h1KHcVsV38Vbi9BRh9DC8f69DKX:54OL+x1ovly5nMtAePHbKFq49BRh9Vf/'}]"
      ]
     },
     "execution_count": 57,
     "metadata": {},
     "output_type": "execute_result"
    }
   ],
   "source": [
    "## Let's also take a look of what the first item looks like\n",
    "datasets[:1]"
   ]
  },
  {
   "cell_type": "code",
   "execution_count": 58,
   "metadata": {
    "scrolled": true
   },
   "outputs": [
    {
     "name": "stdout",
     "output_type": "stream",
     "text": [
      "\n",
      "The length of the data is 118.\n",
      "The first one is of type <class 'dict'>.\n",
      "\n",
      "Now let's focus on the 4 fields we may use for analysis.\n",
      "\n",
      "is interesting: False \n",
      "threatscore: 100 \n",
      "reporturl: /sample/37c3e4de51e4bd7021603408318082eef14258f67c95418db8fc4fb5701e42ca/608a02e9700a0c46e77b06a4 \n",
      "sha256: 37c3e4de51e4bd7021603408318082eef14258f67c95418db8fc4fb5701e42ca\n"
     ]
    }
   ],
   "source": [
    "## Find size of the data, its type, and look closely at the features to use for analysis\n",
    "\n",
    "print (f'''\n",
    "The length of the data is {len(datasets)}.\n",
    "The first one is of type {type(datasets[0])}.\n",
    "\n",
    "Now let's focus on the 4 fields we may use for analysis.\n",
    "\n",
    "is interesting: {datasets[0].get(\"isinteresting\")} \n",
    "threatscore: {datasets[0].get(\"threatscore\")} \n",
    "reporturl: {datasets[0].get(\"reporturl\")} \n",
    "sha256: {datasets[0].get(\"sha256\")}''')"
   ]
  },
  {
   "cell_type": "code",
   "execution_count": 8,
   "metadata": {},
   "outputs": [],
   "source": [
    "## This for loop is just practice for a similar for loop later on. Not used in model\n",
    "\n",
    "## for aThing in datasets:\n",
    "#    print (\"is interesting: \", aThing.get(\"isinteresting\"), \" threatscore:\", aThing.get(\"threatscore\"),  \" reporturl:\", aThing.get(\"reporturl\"),  \" sha256:\", aThing.get(\"sha256\"))"
   ]
  },
  {
   "cell_type": "code",
   "execution_count": 59,
   "metadata": {},
   "outputs": [
    {
     "data": {
      "text/html": [
       "<div>\n",
       "<style scoped>\n",
       "    .dataframe tbody tr th:only-of-type {\n",
       "        vertical-align: middle;\n",
       "    }\n",
       "\n",
       "    .dataframe tbody tr th {\n",
       "        vertical-align: top;\n",
       "    }\n",
       "\n",
       "    .dataframe thead th {\n",
       "        text-align: right;\n",
       "    }\n",
       "</style>\n",
       "<table border=\"1\" class=\"dataframe\">\n",
       "  <thead>\n",
       "    <tr style=\"text-align: right;\">\n",
       "      <th></th>\n",
       "      <th>analysis_start_time</th>\n",
       "      <th>avdetect</th>\n",
       "      <th>compromised_hosts</th>\n",
       "      <th>domains</th>\n",
       "      <th>domains_capped</th>\n",
       "      <th>environmentDescription</th>\n",
       "      <th>environmentId</th>\n",
       "      <th>et_alerts</th>\n",
       "      <th>et_alerts_real_total</th>\n",
       "      <th>et_alerts_total</th>\n",
       "      <th>...</th>\n",
       "      <th>size</th>\n",
       "      <th>ssdeep</th>\n",
       "      <th>submitname</th>\n",
       "      <th>tags</th>\n",
       "      <th>threatlevel</th>\n",
       "      <th>threatlevel_human</th>\n",
       "      <th>threatscore</th>\n",
       "      <th>type</th>\n",
       "      <th>vt_detect</th>\n",
       "      <th>vxfamily</th>\n",
       "    </tr>\n",
       "  </thead>\n",
       "  <tbody>\n",
       "    <tr>\n",
       "      <th>0</th>\n",
       "      <td>2021-04-29 00:51:03</td>\n",
       "      <td>15.0</td>\n",
       "      <td>NaN</td>\n",
       "      <td>NaN</td>\n",
       "      <td>NaN</td>\n",
       "      <td>Windows 7 64 bit</td>\n",
       "      <td>120</td>\n",
       "      <td>NaN</td>\n",
       "      <td>NaN</td>\n",
       "      <td>NaN</td>\n",
       "      <td>...</td>\n",
       "      <td>11389952.0</td>\n",
       "      <td>196608:54e7L+x12zXvqk3CrEU1poDtAeP84h1KHcVsV38...</td>\n",
       "      <td>ECLIPSE.exe</td>\n",
       "      <td>[evasive]</td>\n",
       "      <td>2</td>\n",
       "      <td>malicious</td>\n",
       "      <td>100</td>\n",
       "      <td>PE32+ executable (GUI) x86-64, for MS Windows</td>\n",
       "      <td>15.0</td>\n",
       "      <td>BehavesLike.Win64.Generic</td>\n",
       "    </tr>\n",
       "    <tr>\n",
       "      <th>1</th>\n",
       "      <td>2021-04-29 00:49:14</td>\n",
       "      <td>1.0</td>\n",
       "      <td>[117.91.179.254, 120.52.95.235]</td>\n",
       "      <td>[cacerts.digicert.com, hm.baidu.com, softdl.ww...</td>\n",
       "      <td>NaN</td>\n",
       "      <td>Windows 7 32 bit</td>\n",
       "      <td>100</td>\n",
       "      <td>[{'destip': '23.73.167.118', 'destport': '80',...</td>\n",
       "      <td>9.0</td>\n",
       "      <td>9.0</td>\n",
       "      <td>...</td>\n",
       "      <td>NaN</td>\n",
       "      <td>None</td>\n",
       "      <td>http://softdl.www.duba.net/</td>\n",
       "      <td>NaN</td>\n",
       "      <td>2</td>\n",
       "      <td>malicious</td>\n",
       "      <td>93</td>\n",
       "      <td>NaN</td>\n",
       "      <td>1.0</td>\n",
       "      <td>Malicious site</td>\n",
       "    </tr>\n",
       "    <tr>\n",
       "      <th>2</th>\n",
       "      <td>2021-04-29 00:48:35</td>\n",
       "      <td>0.0</td>\n",
       "      <td>[157.240.18.19]</td>\n",
       "      <td>[api.olark.com, auroratrainingadvantage.com, c...</td>\n",
       "      <td>NaN</td>\n",
       "      <td>Windows 7 64 bit</td>\n",
       "      <td>120</td>\n",
       "      <td>[{'destip': '23.73.167.118', 'destport': '80',...</td>\n",
       "      <td>9.0</td>\n",
       "      <td>9.0</td>\n",
       "      <td>...</td>\n",
       "      <td>NaN</td>\n",
       "      <td>None</td>\n",
       "      <td>http://portal.criticalimpact.com/go/1/380d6490...</td>\n",
       "      <td>NaN</td>\n",
       "      <td>0</td>\n",
       "      <td>no specific threat</td>\n",
       "      <td>25</td>\n",
       "      <td>NaN</td>\n",
       "      <td>0.0</td>\n",
       "      <td>NaN</td>\n",
       "    </tr>\n",
       "    <tr>\n",
       "      <th>3</th>\n",
       "      <td>2021-04-29 00:48:06</td>\n",
       "      <td>NaN</td>\n",
       "      <td>NaN</td>\n",
       "      <td>NaN</td>\n",
       "      <td>NaN</td>\n",
       "      <td>Windows 7 32 bit</td>\n",
       "      <td>100</td>\n",
       "      <td>NaN</td>\n",
       "      <td>NaN</td>\n",
       "      <td>NaN</td>\n",
       "      <td>...</td>\n",
       "      <td>105386.0</td>\n",
       "      <td>1536:tI05L48IVDAQVzZpJyrOM1GhFNkYL2BxNRjM:tI05...</td>\n",
       "      <td>1619657281_w7x32_pafish.exe</td>\n",
       "      <td>[evasive]</td>\n",
       "      <td>2</td>\n",
       "      <td>malicious</td>\n",
       "      <td>90</td>\n",
       "      <td>PE32 executable (console) Intel 80386 (strippe...</td>\n",
       "      <td>NaN</td>\n",
       "      <td>NaN</td>\n",
       "    </tr>\n",
       "    <tr>\n",
       "      <th>4</th>\n",
       "      <td>2021-04-29 00:48:05</td>\n",
       "      <td>NaN</td>\n",
       "      <td>NaN</td>\n",
       "      <td>NaN</td>\n",
       "      <td>NaN</td>\n",
       "      <td>Windows 7 64 bit</td>\n",
       "      <td>120</td>\n",
       "      <td>NaN</td>\n",
       "      <td>NaN</td>\n",
       "      <td>NaN</td>\n",
       "      <td>...</td>\n",
       "      <td>NaN</td>\n",
       "      <td>None</td>\n",
       "      <td>https://google.com/search?q=ZGUyZDQ3Y2E2ZmFkMD...</td>\n",
       "      <td>NaN</td>\n",
       "      <td>0</td>\n",
       "      <td>no specific threat</td>\n",
       "      <td>0</td>\n",
       "      <td>NaN</td>\n",
       "      <td>NaN</td>\n",
       "      <td>NaN</td>\n",
       "    </tr>\n",
       "  </tbody>\n",
       "</table>\n",
       "<p>5 rows × 35 columns</p>\n",
       "</div>"
      ],
      "text/plain": [
       "   analysis_start_time  avdetect                compromised_hosts  \\\n",
       "0  2021-04-29 00:51:03      15.0                              NaN   \n",
       "1  2021-04-29 00:49:14       1.0  [117.91.179.254, 120.52.95.235]   \n",
       "2  2021-04-29 00:48:35       0.0                  [157.240.18.19]   \n",
       "3  2021-04-29 00:48:06       NaN                              NaN   \n",
       "4  2021-04-29 00:48:05       NaN                              NaN   \n",
       "\n",
       "                                             domains domains_capped  \\\n",
       "0                                                NaN            NaN   \n",
       "1  [cacerts.digicert.com, hm.baidu.com, softdl.ww...            NaN   \n",
       "2  [api.olark.com, auroratrainingadvantage.com, c...            NaN   \n",
       "3                                                NaN            NaN   \n",
       "4                                                NaN            NaN   \n",
       "\n",
       "  environmentDescription environmentId  \\\n",
       "0       Windows 7 64 bit           120   \n",
       "1       Windows 7 32 bit           100   \n",
       "2       Windows 7 64 bit           120   \n",
       "3       Windows 7 32 bit           100   \n",
       "4       Windows 7 64 bit           120   \n",
       "\n",
       "                                           et_alerts  et_alerts_real_total  \\\n",
       "0                                                NaN                   NaN   \n",
       "1  [{'destip': '23.73.167.118', 'destport': '80',...                   9.0   \n",
       "2  [{'destip': '23.73.167.118', 'destport': '80',...                   9.0   \n",
       "3                                                NaN                   NaN   \n",
       "4                                                NaN                   NaN   \n",
       "\n",
       "   et_alerts_total            ...                    size  \\\n",
       "0              NaN            ...              11389952.0   \n",
       "1              9.0            ...                     NaN   \n",
       "2              9.0            ...                     NaN   \n",
       "3              NaN            ...                105386.0   \n",
       "4              NaN            ...                     NaN   \n",
       "\n",
       "                                              ssdeep  \\\n",
       "0  196608:54e7L+x12zXvqk3CrEU1poDtAeP84h1KHcVsV38...   \n",
       "1                                               None   \n",
       "2                                               None   \n",
       "3  1536:tI05L48IVDAQVzZpJyrOM1GhFNkYL2BxNRjM:tI05...   \n",
       "4                                               None   \n",
       "\n",
       "                                          submitname       tags  threatlevel  \\\n",
       "0                                        ECLIPSE.exe  [evasive]            2   \n",
       "1                        http://softdl.www.duba.net/        NaN            2   \n",
       "2  http://portal.criticalimpact.com/go/1/380d6490...        NaN            0   \n",
       "3                        1619657281_w7x32_pafish.exe  [evasive]            2   \n",
       "4  https://google.com/search?q=ZGUyZDQ3Y2E2ZmFkMD...        NaN            0   \n",
       "\n",
       "    threatlevel_human  threatscore  \\\n",
       "0           malicious          100   \n",
       "1           malicious           93   \n",
       "2  no specific threat           25   \n",
       "3           malicious           90   \n",
       "4  no specific threat            0   \n",
       "\n",
       "                                                type vt_detect  \\\n",
       "0      PE32+ executable (GUI) x86-64, for MS Windows      15.0   \n",
       "1                                                NaN       1.0   \n",
       "2                                                NaN       0.0   \n",
       "3  PE32 executable (console) Intel 80386 (strippe...       NaN   \n",
       "4                                                NaN       NaN   \n",
       "\n",
       "                    vxfamily  \n",
       "0  BehavesLike.Win64.Generic  \n",
       "1             Malicious site  \n",
       "2                        NaN  \n",
       "3                        NaN  \n",
       "4                        NaN  \n",
       "\n",
       "[5 rows x 35 columns]"
      ]
     },
     "execution_count": 59,
     "metadata": {},
     "output_type": "execute_result"
    }
   ],
   "source": [
    "## Format the data and save it to a panda dataframe and show the first 5 records\n",
    "\n",
    "import pandas as pd\n",
    "df = pd.DataFrame(datasets)\n",
    "df.head()"
   ]
  },
  {
   "cell_type": "code",
   "execution_count": 60,
   "metadata": {},
   "outputs": [
    {
     "name": "stdout",
     "output_type": "stream",
     "text": [
      "<class 'pandas.core.frame.DataFrame'>\n",
      "RangeIndex: 118 entries, 0 to 117\n",
      "Data columns (total 35 columns):\n",
      "analysis_start_time       118 non-null object\n",
      "avdetect                  46 non-null float64\n",
      "compromised_hosts         50 non-null object\n",
      "domains                   66 non-null object\n",
      "domains_capped            3 non-null object\n",
      "environmentDescription    118 non-null object\n",
      "environmentId             118 non-null object\n",
      "et_alerts                 28 non-null object\n",
      "et_alerts_real_total      28 non-null float64\n",
      "et_alerts_total           28 non-null float64\n",
      "extracted_files           118 non-null object\n",
      "hosts                     65 non-null object\n",
      "hosts_capped              3 non-null object\n",
      "hosts_geo                 65 non-null object\n",
      "isinteresting             118 non-null bool\n",
      "isreliable                118 non-null bool\n",
      "isunknown                 118 non-null bool\n",
      "isurlanalysis             114 non-null object\n",
      "md5                       118 non-null object\n",
      "ms_detect                 46 non-null float64\n",
      "process_list              118 non-null object\n",
      "reporturl                 118 non-null object\n",
      "sha1                      118 non-null object\n",
      "sha256                    118 non-null object\n",
      "sharedanalysis            118 non-null bool\n",
      "size                      44 non-null float64\n",
      "ssdeep                    36 non-null object\n",
      "submitname                114 non-null object\n",
      "tags                      29 non-null object\n",
      "threatlevel               118 non-null int64\n",
      "threatlevel_human         118 non-null object\n",
      "threatscore               118 non-null int64\n",
      "type                      44 non-null object\n",
      "vt_detect                 46 non-null float64\n",
      "vxfamily                  13 non-null object\n",
      "dtypes: bool(4), float64(6), int64(2), object(23)\n",
      "memory usage: 29.1+ KB\n"
     ]
    }
   ],
   "source": [
    "## Display information of the dataframe and type of each column\n",
    "\n",
    "df.info()"
   ]
  },
  {
   "cell_type": "markdown",
   "metadata": {},
   "source": [
    "### Part 1.2 Data cleaning and getting ready for analysis"
   ]
  },
  {
   "cell_type": "code",
   "execution_count": 61,
   "metadata": {},
   "outputs": [
    {
     "data": {
      "text/plain": [
       "0    /sample/37c3e4de51e4bd7021603408318082eef14258...\n",
       "1    /sample/d535eabd2338d68536fd53636aa9d291dfa2fe...\n",
       "2    /sample/e0eb03802ed3ca965a5af93b632ce237085178...\n",
       "3    /sample/5822d3064104f436a27d30e930aed654730ff8...\n",
       "4    /sample/61a66d6af049af9be371b9919d23439b00929d...\n",
       "Name: reporturl, dtype: object"
      ]
     },
     "execution_count": 61,
     "metadata": {},
     "output_type": "execute_result"
    }
   ],
   "source": [
    "'''Look at the reporturl column to see how we need to split it up \n",
    "so we can put the values in a for loop to store each individual report'''\n",
    "\n",
    "df[\"reporturl\"][:5]"
   ]
  },
  {
   "cell_type": "code",
   "execution_count": 62,
   "metadata": {
    "scrolled": true
   },
   "outputs": [
    {
     "data": {
      "text/plain": [
       "['analysis_start_time',\n",
       " 'avdetect',\n",
       " 'compromised_hosts',\n",
       " 'domains',\n",
       " 'domains_capped',\n",
       " 'environmentDescription',\n",
       " 'environmentId',\n",
       " 'et_alerts',\n",
       " 'et_alerts_real_total',\n",
       " 'et_alerts_total',\n",
       " 'extracted_files',\n",
       " 'hosts',\n",
       " 'hosts_capped',\n",
       " 'hosts_geo',\n",
       " 'isinteresting',\n",
       " 'isreliable',\n",
       " 'isunknown',\n",
       " 'isurlanalysis',\n",
       " 'md5',\n",
       " 'ms_detect',\n",
       " 'process_list',\n",
       " 'reporturl',\n",
       " 'sha1',\n",
       " 'sha256',\n",
       " 'sharedanalysis',\n",
       " 'size',\n",
       " 'ssdeep',\n",
       " 'submitname',\n",
       " 'tags',\n",
       " 'threatlevel',\n",
       " 'threatlevel_human',\n",
       " 'threatscore',\n",
       " 'type',\n",
       " 'vt_detect',\n",
       " 'vxfamily',\n",
       " 'jobid']"
      ]
     },
     "execution_count": 62,
     "metadata": {},
     "output_type": "execute_result"
    }
   ],
   "source": [
    "## Split the report url to seperate out jobid by filtering out /sample/ from reporturl column\n",
    "df[\"jobid\"]=df[\"reporturl\"].str.split(\"/\", expand=True)[3]\n",
    "\n",
    "## Observe all the columns after creating job id\n",
    "list(df)"
   ]
  },
  {
   "cell_type": "code",
   "execution_count": 63,
   "metadata": {},
   "outputs": [
    {
     "data": {
      "text/plain": [
       "0    608a02e9700a0c46e77b06a4\n",
       "1    608a02848f436e3f11231bd2\n",
       "2    608a025b6be81a403a1b9353\n",
       "3    608a0242f37b1029bf072ee2\n",
       "4    608a024265df053f531d4d29\n",
       "Name: jobid, dtype: object"
      ]
     },
     "execution_count": 63,
     "metadata": {},
     "output_type": "execute_result"
    }
   ],
   "source": [
    "### Now we see that the column 'jobid' is created. Let's see what it looks like and make sure it's what we want\n",
    "\n",
    "df[\"jobid\"][:5]"
   ]
  },
  {
   "cell_type": "code",
   "execution_count": 64,
   "metadata": {
    "scrolled": true
   },
   "outputs": [
    {
     "data": {
      "text/plain": [
       "0    https://www.hybrid-analysis.com/api/v2/report/...\n",
       "Name: url, dtype: object"
      ]
     },
     "execution_count": 64,
     "metadata": {},
     "output_type": "execute_result"
    }
   ],
   "source": [
    "## Combine url with job id so we can insert into for loop to pull all the matching reports from the feed.\n",
    "\n",
    "df[\"url\"]= \"https://www.hybrid-analysis.com/api/v2/report/\" + df[\"jobid\"] + \"/summary\"\n",
    "df[\"url\"][:1]"
   ]
  },
  {
   "cell_type": "code",
   "execution_count": 65,
   "metadata": {},
   "outputs": [
    {
     "name": "stdout",
     "output_type": "stream",
     "text": [
      "response code:  200 content length is  2850\n",
      "response code:  200 content length is  29496\n",
      "response code:  200 content length is  31915\n",
      "response code:  200 content length is  7634\n",
      "response code:  200 content length is  11215\n",
      "response code:  200 content length is  7603\n",
      "response code:  200 content length is  32086\n",
      "response code:  200 content length is  3252\n",
      "response code:  200 content length is  22991\n",
      "response code:  200 content length is  14949\n",
      "response code:  200 content length is  10531\n",
      "response code:  200 content length is  7680\n",
      "response code:  200 content length is  7603\n",
      "response code:  200 content length is  12239\n",
      "response code:  200 content length is  7634\n",
      "response code:  200 content length is  32765\n",
      "response code:  200 content length is  31942\n",
      "response code:  200 content length is  31197\n",
      "response code:  200 content length is  1412\n",
      "response code:  200 content length is  35697\n",
      "response code:  200 content length is  12590\n",
      "response code:  200 content length is  204590\n",
      "response code:  200 content length is  32980\n",
      "response code:  200 content length is  30161\n",
      "response code:  200 content length is  3106\n",
      "response code:  200 content length is  7634\n",
      "response code:  200 content length is  31086\n",
      "response code:  200 content length is  31068\n",
      "response code:  200 content length is  30650\n",
      "response code:  200 content length is  33102\n",
      "response code:  200 content length is  30366\n",
      "response code:  200 content length is  6891\n",
      "response code:  200 content length is  6861\n",
      "response code:  200 content length is  33142\n",
      "response code:  200 content length is  33056\n",
      "response code:  200 content length is  24328\n",
      "response code:  200 content length is  11217\n",
      "response code:  200 content length is  18157\n",
      "response code:  200 content length is  34605\n",
      "response code:  200 content length is  34061\n",
      "response code:  200 content length is  33415\n",
      "response code:  200 content length is  30920\n",
      "response code:  200 content length is  34154\n",
      "response code:  200 content length is  32258\n",
      "response code:  200 content length is  34496\n",
      "response code:  200 content length is  34440\n",
      "response code:  200 content length is  32566\n",
      "response code:  200 content length is  34372\n",
      "response code:  200 content length is  34387\n",
      "response code:  200 content length is  12703\n",
      "response code:  200 content length is  7644\n",
      "response code:  200 content length is  7613\n",
      "response code:  200 content length is  30388\n",
      "response code:  200 content length is  35266\n",
      "response code:  200 content length is  26628\n",
      "response code:  200 content length is  31148\n",
      "response code:  200 content length is  7644\n",
      "response code:  200 content length is  7613\n",
      "response code:  200 content length is  31992\n",
      "response code:  200 content length is  2359\n",
      "response code:  200 content length is  27876\n",
      "response code:  200 content length is  27179\n",
      "response code:  200 content length is  30146\n",
      "response code:  200 content length is  7644\n",
      "response code:  200 content length is  7613\n",
      "response code:  200 content length is  29200\n",
      "response code:  200 content length is  30208\n",
      "response code:  200 content length is  7644\n",
      "response code:  200 content length is  6871\n",
      "response code:  200 content length is  25088\n",
      "response code:  200 content length is  29931\n",
      "response code:  200 content length is  29113\n",
      "response code:  200 content length is  33148\n",
      "response code:  200 content length is  35729\n",
      "response code:  200 content length is  34526\n",
      "response code:  200 content length is  11217\n",
      "response code:  200 content length is  6871\n",
      "response code:  200 content length is  6901\n",
      "response code:  200 content length is  33332\n",
      "response code:  200 content length is  132154\n",
      "response code:  200 content length is  28739\n",
      "response code:  200 content length is  45241\n",
      "response code:  200 content length is  31160\n",
      "response code:  200 content length is  31738\n",
      "response code:  200 content length is  23880\n",
      "response code:  200 content length is  30938\n",
      "response code:  200 content length is  29905\n",
      "response code:  200 content length is  2455\n",
      "response code:  200 content length is  10817\n",
      "response code:  200 content length is  30810\n",
      "response code:  200 content length is  6871\n",
      "response code:  200 content length is  7644\n",
      "response code:  200 content length is  26800\n",
      "response code:  200 content length is  25692\n",
      "response code:  200 content length is  30843\n",
      "response code:  200 content length is  34415\n",
      "response code:  200 content length is  7171\n",
      "response code:  200 content length is  35142\n",
      "response code:  200 content length is  29993\n",
      "response code:  200 content length is  6871\n",
      "response code:  200 content length is  6901\n",
      "response code:  200 content length is  28108\n",
      "response code:  200 content length is  6447\n",
      "response code:  200 content length is  10023\n",
      "response code:  200 content length is  7644\n",
      "response code:  200 content length is  11217\n",
      "response code:  200 content length is  28803\n",
      "response code:  200 content length is  2315\n",
      "response code:  200 content length is  2182\n",
      "response code:  200 content length is  11217\n",
      "response code:  200 content length is  6871\n",
      "response code:  200 content length is  6901\n",
      "response code:  200 content length is  2519\n",
      "response code:  200 content length is  29318\n",
      "response code:  200 content length is  12421\n",
      "response code:  200 content length is  31451\n",
      "response code:  200 content length is  9674\n",
      "response code:  200 content length is  7726\n"
     ]
    }
   ],
   "source": [
    "## This call puts the json data and puts it into a new \"summary\" column by creating a function\n",
    "\n",
    "def get_summary(row):\n",
    "    response = requests.get(row[\"url\"], headers = parameters)\n",
    "    print(\"response code: \", response.status_code, \"content length is \", len(response.content))\n",
    "    json_response = response.json()\n",
    "\n",
    "    return json_response\n",
    "    \n",
    "df[\"summary\"] = df.apply(get_summary, axis = 1)"
   ]
  },
  {
   "cell_type": "code",
   "execution_count": 66,
   "metadata": {},
   "outputs": [
    {
     "data": {
      "text/plain": [
       "0    {'job_id': '608a02e9700a0c46e77b06a4', 'enviro...\n",
       "1    {'job_id': '608a02848f436e3f11231bd2', 'enviro...\n",
       "2    {'job_id': '608a025b6be81a403a1b9353', 'enviro...\n",
       "3    {'job_id': '608a0242f37b1029bf072ee2', 'enviro...\n",
       "4    {'job_id': '608a024265df053f531d4d29', 'enviro...\n",
       "Name: summary, dtype: object"
      ]
     },
     "execution_count": 66,
     "metadata": {},
     "output_type": "execute_result"
    }
   ],
   "source": [
    "## Make sure it worked and added the new summary column\n",
    "\n",
    "df[\"summary\"][:5]"
   ]
  },
  {
   "cell_type": "code",
   "execution_count": 67,
   "metadata": {},
   "outputs": [
    {
     "name": "stdout",
     "output_type": "stream",
     "text": [
      "<class 'pandas.core.series.Series'>\n",
      "object\n"
     ]
    }
   ],
   "source": [
    "## Just checking the summary column type\n",
    "\n",
    "print(type(df[\"summary\"]))\n",
    "print(df[\"summary\"].dtypes)"
   ]
  },
  {
   "cell_type": "code",
   "execution_count": 68,
   "metadata": {},
   "outputs": [
    {
     "data": {
      "text/plain": [
       "array([41], dtype=int64)"
      ]
     },
     "execution_count": 68,
     "metadata": {},
     "output_type": "execute_result"
    }
   ],
   "source": [
    "## This makes sure no failed reports are included. AKA if we run out of daily requests those aren't added into the dataframe. \n",
    "df['sum_len'] = df['summary'].str.len()\n",
    "\n",
    "## Observe all the unique values in the newly created column\n",
    "df.sum_len.unique()"
   ]
  },
  {
   "cell_type": "code",
   "execution_count": 69,
   "metadata": {},
   "outputs": [],
   "source": [
    "## Just in case if there is any summary that didn't successfully added, only keep records with length greater than 2\n",
    "\n",
    "df = df[df.sum_len > 2]"
   ]
  },
  {
   "cell_type": "code",
   "execution_count": 70,
   "metadata": {},
   "outputs": [],
   "source": [
    "## Create function to make a new row counting the number of mitre attacks\n",
    "    \n",
    "def get_num_mitre_attcks(row):\n",
    "    return len(row[\"summary\"][\"mitre_attcks\"])\n",
    "   \n",
    "df[\"num_mitre_attcks\"] = df.apply(get_num_mitre_attcks, axis = 1)"
   ]
  },
  {
   "cell_type": "markdown",
   "metadata": {},
   "source": [
    "## Part 2 Building model"
   ]
  },
  {
   "cell_type": "markdown",
   "metadata": {},
   "source": [
    "### Part 2.1 Import packages needed and edits to dataframe"
   ]
  },
  {
   "cell_type": "code",
   "execution_count": 71,
   "metadata": {},
   "outputs": [],
   "source": [
    "## Import needed packages\n",
    "\n",
    "import numpy as np\n",
    "import pandas as pd\n",
    "import matplotlib.pyplot as plt\n",
    "from sklearn import tree\n",
    "from sklearn import metrics\n",
    "from sklearn.preprocessing import StandardScaler\n",
    "from sklearn.model_selection import train_test_split\n",
    "from sklearn.ensemble import RandomForestClassifier\n",
    "from sklearn.tree import DecisionTreeClassifier\n",
    "from sklearn.model_selection import cross_val_score\n",
    "from sklearn.metrics import classification_report, confusion_matrix\n",
    "\n",
    "\n",
    "%matplotlib inline\n",
    "plt.style.use('ggplot')\n",
    "import warnings; warnings.simplefilter('ignore')"
   ]
  },
  {
   "cell_type": "code",
   "execution_count": 72,
   "metadata": {},
   "outputs": [],
   "source": [
    "## Make a copy of df. We can only access so many pulls in one day using the same API key so use df2 to work \"offline\" and keep testing\n",
    "\n",
    "df2 = df.copy()"
   ]
  },
  {
   "cell_type": "code",
   "execution_count": 73,
   "metadata": {
    "scrolled": true
   },
   "outputs": [
    {
     "data": {
      "text/html": [
       "<div>\n",
       "<style scoped>\n",
       "    .dataframe tbody tr th:only-of-type {\n",
       "        vertical-align: middle;\n",
       "    }\n",
       "\n",
       "    .dataframe tbody tr th {\n",
       "        vertical-align: top;\n",
       "    }\n",
       "\n",
       "    .dataframe thead th {\n",
       "        text-align: right;\n",
       "    }\n",
       "</style>\n",
       "<table border=\"1\" class=\"dataframe\">\n",
       "  <thead>\n",
       "    <tr style=\"text-align: right;\">\n",
       "      <th></th>\n",
       "      <th>index</th>\n",
       "      <th>analysis_start_time</th>\n",
       "      <th>avdetect</th>\n",
       "      <th>compromised_hosts</th>\n",
       "      <th>domains</th>\n",
       "      <th>domains_capped</th>\n",
       "      <th>environmentDescription</th>\n",
       "      <th>environmentId</th>\n",
       "      <th>et_alerts</th>\n",
       "      <th>et_alerts_real_total</th>\n",
       "      <th>...</th>\n",
       "      <th>threatlevel_human</th>\n",
       "      <th>threatscore</th>\n",
       "      <th>type</th>\n",
       "      <th>vt_detect</th>\n",
       "      <th>vxfamily</th>\n",
       "      <th>jobid</th>\n",
       "      <th>url</th>\n",
       "      <th>summary</th>\n",
       "      <th>sum_len</th>\n",
       "      <th>num_mitre_attcks</th>\n",
       "    </tr>\n",
       "  </thead>\n",
       "  <tbody>\n",
       "    <tr>\n",
       "      <th>0</th>\n",
       "      <td>0</td>\n",
       "      <td>2021-04-29 00:51:03</td>\n",
       "      <td>15.0</td>\n",
       "      <td>NaN</td>\n",
       "      <td>NaN</td>\n",
       "      <td>NaN</td>\n",
       "      <td>Windows 7 64 bit</td>\n",
       "      <td>120</td>\n",
       "      <td>NaN</td>\n",
       "      <td>NaN</td>\n",
       "      <td>...</td>\n",
       "      <td>malicious</td>\n",
       "      <td>100</td>\n",
       "      <td>PE32+ executable (GUI) x86-64, for MS Windows</td>\n",
       "      <td>15.0</td>\n",
       "      <td>BehavesLike.Win64.Generic</td>\n",
       "      <td>608a02e9700a0c46e77b06a4</td>\n",
       "      <td>https://www.hybrid-analysis.com/api/v2/report/...</td>\n",
       "      <td>{'job_id': '608a02e9700a0c46e77b06a4', 'enviro...</td>\n",
       "      <td>41</td>\n",
       "      <td>3</td>\n",
       "    </tr>\n",
       "    <tr>\n",
       "      <th>1</th>\n",
       "      <td>1</td>\n",
       "      <td>2021-04-29 00:49:14</td>\n",
       "      <td>1.0</td>\n",
       "      <td>[117.91.179.254, 120.52.95.235]</td>\n",
       "      <td>[cacerts.digicert.com, hm.baidu.com, softdl.ww...</td>\n",
       "      <td>NaN</td>\n",
       "      <td>Windows 7 32 bit</td>\n",
       "      <td>100</td>\n",
       "      <td>[{'destip': '23.73.167.118', 'destport': '80',...</td>\n",
       "      <td>9.0</td>\n",
       "      <td>...</td>\n",
       "      <td>malicious</td>\n",
       "      <td>93</td>\n",
       "      <td>NaN</td>\n",
       "      <td>1.0</td>\n",
       "      <td>Malicious site</td>\n",
       "      <td>608a02848f436e3f11231bd2</td>\n",
       "      <td>https://www.hybrid-analysis.com/api/v2/report/...</td>\n",
       "      <td>{'job_id': '608a02848f436e3f11231bd2', 'enviro...</td>\n",
       "      <td>41</td>\n",
       "      <td>0</td>\n",
       "    </tr>\n",
       "    <tr>\n",
       "      <th>2</th>\n",
       "      <td>2</td>\n",
       "      <td>2021-04-29 00:48:35</td>\n",
       "      <td>0.0</td>\n",
       "      <td>[157.240.18.19]</td>\n",
       "      <td>[api.olark.com, auroratrainingadvantage.com, c...</td>\n",
       "      <td>NaN</td>\n",
       "      <td>Windows 7 64 bit</td>\n",
       "      <td>120</td>\n",
       "      <td>[{'destip': '23.73.167.118', 'destport': '80',...</td>\n",
       "      <td>9.0</td>\n",
       "      <td>...</td>\n",
       "      <td>no specific threat</td>\n",
       "      <td>25</td>\n",
       "      <td>NaN</td>\n",
       "      <td>0.0</td>\n",
       "      <td>NaN</td>\n",
       "      <td>608a025b6be81a403a1b9353</td>\n",
       "      <td>https://www.hybrid-analysis.com/api/v2/report/...</td>\n",
       "      <td>{'job_id': '608a025b6be81a403a1b9353', 'enviro...</td>\n",
       "      <td>41</td>\n",
       "      <td>0</td>\n",
       "    </tr>\n",
       "    <tr>\n",
       "      <th>3</th>\n",
       "      <td>3</td>\n",
       "      <td>2021-04-29 00:48:06</td>\n",
       "      <td>NaN</td>\n",
       "      <td>NaN</td>\n",
       "      <td>NaN</td>\n",
       "      <td>NaN</td>\n",
       "      <td>Windows 7 32 bit</td>\n",
       "      <td>100</td>\n",
       "      <td>NaN</td>\n",
       "      <td>NaN</td>\n",
       "      <td>...</td>\n",
       "      <td>malicious</td>\n",
       "      <td>90</td>\n",
       "      <td>PE32 executable (console) Intel 80386 (strippe...</td>\n",
       "      <td>NaN</td>\n",
       "      <td>NaN</td>\n",
       "      <td>608a0242f37b1029bf072ee2</td>\n",
       "      <td>https://www.hybrid-analysis.com/api/v2/report/...</td>\n",
       "      <td>{'job_id': '608a0242f37b1029bf072ee2', 'enviro...</td>\n",
       "      <td>41</td>\n",
       "      <td>16</td>\n",
       "    </tr>\n",
       "    <tr>\n",
       "      <th>4</th>\n",
       "      <td>4</td>\n",
       "      <td>2021-04-29 00:48:05</td>\n",
       "      <td>NaN</td>\n",
       "      <td>NaN</td>\n",
       "      <td>NaN</td>\n",
       "      <td>NaN</td>\n",
       "      <td>Windows 7 64 bit</td>\n",
       "      <td>120</td>\n",
       "      <td>NaN</td>\n",
       "      <td>NaN</td>\n",
       "      <td>...</td>\n",
       "      <td>no specific threat</td>\n",
       "      <td>0</td>\n",
       "      <td>NaN</td>\n",
       "      <td>NaN</td>\n",
       "      <td>NaN</td>\n",
       "      <td>608a024265df053f531d4d29</td>\n",
       "      <td>https://www.hybrid-analysis.com/api/v2/report/...</td>\n",
       "      <td>{'job_id': '608a024265df053f531d4d29', 'enviro...</td>\n",
       "      <td>41</td>\n",
       "      <td>0</td>\n",
       "    </tr>\n",
       "  </tbody>\n",
       "</table>\n",
       "<p>5 rows × 41 columns</p>\n",
       "</div>"
      ],
      "text/plain": [
       "   index  analysis_start_time  avdetect                compromised_hosts  \\\n",
       "0      0  2021-04-29 00:51:03      15.0                              NaN   \n",
       "1      1  2021-04-29 00:49:14       1.0  [117.91.179.254, 120.52.95.235]   \n",
       "2      2  2021-04-29 00:48:35       0.0                  [157.240.18.19]   \n",
       "3      3  2021-04-29 00:48:06       NaN                              NaN   \n",
       "4      4  2021-04-29 00:48:05       NaN                              NaN   \n",
       "\n",
       "                                             domains domains_capped  \\\n",
       "0                                                NaN            NaN   \n",
       "1  [cacerts.digicert.com, hm.baidu.com, softdl.ww...            NaN   \n",
       "2  [api.olark.com, auroratrainingadvantage.com, c...            NaN   \n",
       "3                                                NaN            NaN   \n",
       "4                                                NaN            NaN   \n",
       "\n",
       "  environmentDescription environmentId  \\\n",
       "0       Windows 7 64 bit           120   \n",
       "1       Windows 7 32 bit           100   \n",
       "2       Windows 7 64 bit           120   \n",
       "3       Windows 7 32 bit           100   \n",
       "4       Windows 7 64 bit           120   \n",
       "\n",
       "                                           et_alerts  et_alerts_real_total  \\\n",
       "0                                                NaN                   NaN   \n",
       "1  [{'destip': '23.73.167.118', 'destport': '80',...                   9.0   \n",
       "2  [{'destip': '23.73.167.118', 'destport': '80',...                   9.0   \n",
       "3                                                NaN                   NaN   \n",
       "4                                                NaN                   NaN   \n",
       "\n",
       "        ...          threatlevel_human threatscore  \\\n",
       "0       ...                  malicious         100   \n",
       "1       ...                  malicious          93   \n",
       "2       ...         no specific threat          25   \n",
       "3       ...                  malicious          90   \n",
       "4       ...         no specific threat           0   \n",
       "\n",
       "                                                type vt_detect  \\\n",
       "0      PE32+ executable (GUI) x86-64, for MS Windows      15.0   \n",
       "1                                                NaN       1.0   \n",
       "2                                                NaN       0.0   \n",
       "3  PE32 executable (console) Intel 80386 (strippe...       NaN   \n",
       "4                                                NaN       NaN   \n",
       "\n",
       "                    vxfamily                     jobid  \\\n",
       "0  BehavesLike.Win64.Generic  608a02e9700a0c46e77b06a4   \n",
       "1             Malicious site  608a02848f436e3f11231bd2   \n",
       "2                        NaN  608a025b6be81a403a1b9353   \n",
       "3                        NaN  608a0242f37b1029bf072ee2   \n",
       "4                        NaN  608a024265df053f531d4d29   \n",
       "\n",
       "                                                 url  \\\n",
       "0  https://www.hybrid-analysis.com/api/v2/report/...   \n",
       "1  https://www.hybrid-analysis.com/api/v2/report/...   \n",
       "2  https://www.hybrid-analysis.com/api/v2/report/...   \n",
       "3  https://www.hybrid-analysis.com/api/v2/report/...   \n",
       "4  https://www.hybrid-analysis.com/api/v2/report/...   \n",
       "\n",
       "                                             summary sum_len num_mitre_attcks  \n",
       "0  {'job_id': '608a02e9700a0c46e77b06a4', 'enviro...      41                3  \n",
       "1  {'job_id': '608a02848f436e3f11231bd2', 'enviro...      41                0  \n",
       "2  {'job_id': '608a025b6be81a403a1b9353', 'enviro...      41                0  \n",
       "3  {'job_id': '608a0242f37b1029bf072ee2', 'enviro...      41               16  \n",
       "4  {'job_id': '608a024265df053f531d4d29', 'enviro...      41                0  \n",
       "\n",
       "[5 rows x 41 columns]"
      ]
     },
     "execution_count": 73,
     "metadata": {},
     "output_type": "execute_result"
    }
   ],
   "source": [
    "## Make the 'isinteresting' column a binary\n",
    "\n",
    "df2 = df2.reset_index()\n",
    "np.isnan(df2.any()) # and gets False\n",
    "np.isfinite(df2.all()) # and gets True\n",
    "\n",
    "df2.head()"
   ]
  },
  {
   "cell_type": "code",
   "execution_count": 74,
   "metadata": {},
   "outputs": [
    {
     "name": "stdout",
     "output_type": "stream",
     "text": [
      "<class 'pandas.core.frame.DataFrame'>\n",
      "RangeIndex: 118 entries, 0 to 117\n",
      "Data columns (total 41 columns):\n",
      "index                     118 non-null int64\n",
      "analysis_start_time       118 non-null object\n",
      "avdetect                  46 non-null float64\n",
      "compromised_hosts         50 non-null object\n",
      "domains                   66 non-null object\n",
      "domains_capped            3 non-null object\n",
      "environmentDescription    118 non-null object\n",
      "environmentId             118 non-null object\n",
      "et_alerts                 28 non-null object\n",
      "et_alerts_real_total      28 non-null float64\n",
      "et_alerts_total           28 non-null float64\n",
      "extracted_files           118 non-null object\n",
      "hosts                     65 non-null object\n",
      "hosts_capped              3 non-null object\n",
      "hosts_geo                 65 non-null object\n",
      "isinteresting             118 non-null bool\n",
      "isreliable                118 non-null bool\n",
      "isunknown                 118 non-null bool\n",
      "isurlanalysis             114 non-null object\n",
      "md5                       118 non-null object\n",
      "ms_detect                 46 non-null float64\n",
      "process_list              118 non-null object\n",
      "reporturl                 118 non-null object\n",
      "sha1                      118 non-null object\n",
      "sha256                    118 non-null object\n",
      "sharedanalysis            118 non-null bool\n",
      "size                      44 non-null float64\n",
      "ssdeep                    36 non-null object\n",
      "submitname                114 non-null object\n",
      "tags                      29 non-null object\n",
      "threatlevel               118 non-null int64\n",
      "threatlevel_human         118 non-null object\n",
      "threatscore               118 non-null int64\n",
      "type                      44 non-null object\n",
      "vt_detect                 46 non-null float64\n",
      "vxfamily                  13 non-null object\n",
      "jobid                     118 non-null object\n",
      "url                       118 non-null object\n",
      "summary                   118 non-null object\n",
      "sum_len                   118 non-null int64\n",
      "num_mitre_attcks          118 non-null int64\n",
      "dtypes: bool(4), float64(6), int64(5), object(26)\n",
      "memory usage: 34.6+ KB\n"
     ]
    }
   ],
   "source": [
    "## Check to see if isinteresting column is now in coolean type\n",
    "\n",
    "df2.info()"
   ]
  },
  {
   "cell_type": "code",
   "execution_count": 75,
   "metadata": {
    "scrolled": true
   },
   "outputs": [
    {
     "name": "stdout",
     "output_type": "stream",
     "text": [
      "34\n"
     ]
    }
   ],
   "source": [
    "## Check how many interesting rows there are\n",
    "\n",
    "df2[\"isinteresting_binary\"] = df2[\"isinteresting\"].astype(int) # Create a new column of 0 or 1 value based on the boolean value\n",
    "Total = df2['isinteresting_binary'].sum() # Add up all the values to see how many interesting rows in total\n",
    "\n",
    "print (Total)"
   ]
  },
  {
   "cell_type": "code",
   "execution_count": 76,
   "metadata": {},
   "outputs": [],
   "source": [
    "## Convert Nan values to 0\n",
    "\n",
    "def clean_dataset(df2):\n",
    "    assert isinstance(df2, pd.DataFrame), \"df needs to be a pd.DataFrame\"\n",
    "    df2.dropna(inplace=True)\n",
    "    indices_to_keep = ~df2.isin([np.nan, np.inf, -np.inf]).any(1)\n",
    "    return df2[indices_to_keep].astype(np.float64)"
   ]
  },
  {
   "cell_type": "markdown",
   "metadata": {},
   "source": [
    "### Part 2.2 Create a Random Forest Classifier model "
   ]
  },
  {
   "cell_type": "code",
   "execution_count": 77,
   "metadata": {},
   "outputs": [],
   "source": [
    "## Add input variables and split the testing data on a 50/50 split\n",
    "\n",
    "X = df2[['threatscore', 'threatlevel', 'num_mitre_attcks']]  # Features\n",
    "y = df2['isinteresting_binary']  # Labels\n",
    "\n",
    "# Split dataset into training set and test set\n",
    "X_train, X_test, y_train, y_test = train_test_split(X, y, test_size = 0.5) # 50% training and 50% test"
   ]
  },
  {
   "cell_type": "code",
   "execution_count": 78,
   "metadata": {
    "scrolled": true
   },
   "outputs": [
    {
     "name": "stdout",
     "output_type": "stream",
     "text": [
      "Accuracy: 0.9830508474576272\n"
     ]
    }
   ],
   "source": [
    "## Create a Gaussian Classifier using Random Forest\n",
    "cla = RandomForestClassifier(n_estimators = 100)\n",
    "\n",
    "## Train the model using the training sets y_pred=clf.predict(X_test)\n",
    "cla.fit(X_train,y_train)\n",
    "\n",
    "## Prediction on test set\n",
    "y_pred = cla.predict(X_test)\n",
    "\n",
    "## Model Accuracy, this indicates how often the classifier is correct\n",
    "print(\"Accuracy:\", metrics.accuracy_score(y_test, y_pred))"
   ]
  },
  {
   "cell_type": "code",
   "execution_count": 79,
   "metadata": {},
   "outputs": [
    {
     "name": "stdout",
     "output_type": "stream",
     "text": [
      "[[44  1]\n",
      " [ 0 14]]\n",
      "              precision    recall  f1-score   support\n",
      "\n",
      "           0       1.00      0.98      0.99        45\n",
      "           1       0.93      1.00      0.97        14\n",
      "\n",
      "   micro avg       0.98      0.98      0.98        59\n",
      "   macro avg       0.97      0.99      0.98        59\n",
      "weighted avg       0.98      0.98      0.98        59\n",
      "\n"
     ]
    }
   ],
   "source": [
    "## Evaluate the model using a confusion matrix\n",
    "\n",
    "print(confusion_matrix(y_test, y_pred))\n",
    "print(classification_report(y_test, y_pred))"
   ]
  },
  {
   "cell_type": "markdown",
   "metadata": {},
   "source": [
    "### Part 2.3 Create a Decision Tree Classifier model "
   ]
  },
  {
   "cell_type": "code",
   "execution_count": 80,
   "metadata": {},
   "outputs": [
    {
     "name": "stdout",
     "output_type": "stream",
     "text": [
      "Accuracy: 0.9166666666666666\n"
     ]
    }
   ],
   "source": [
    "## Repeat the process above to create train/test data\n",
    "## Add input variables and split the testing data on a 50/50 split\n",
    "\n",
    "X = df2[['threatscore', 'threatlevel', 'num_mitre_attcks']]  # Features\n",
    "y = df2['isinteresting_binary']  # Labels\n",
    "\n",
    "\n",
    "## Split dataset into training set and test set\n",
    "X_train, X_test, y_train, y_test = train_test_split(X, y, test_size = 0.2) # 80% training and 20% test\n",
    "\n",
    "\n",
    "## Create a Decision Tree Classifier model\n",
    "clf = tree.DecisionTreeClassifier()\n",
    "clf = clf.fit(X_train,y_train)\n",
    "\n",
    "# prediction on test set\n",
    "y_pred = clf.predict(X_test)\n",
    "\n",
    "## Model Accuracy, this indicates how often the classifier is correct\n",
    "print(\"Accuracy:\", metrics.accuracy_score(y_test, y_pred))"
   ]
  },
  {
   "cell_type": "code",
   "execution_count": 81,
   "metadata": {
    "scrolled": true
   },
   "outputs": [
    {
     "name": "stdout",
     "output_type": "stream",
     "text": [
      "[[18  0]\n",
      " [ 2  4]]\n",
      "              precision    recall  f1-score   support\n",
      "\n",
      "           0       0.90      1.00      0.95        18\n",
      "           1       1.00      0.67      0.80         6\n",
      "\n",
      "   micro avg       0.92      0.92      0.92        24\n",
      "   macro avg       0.95      0.83      0.87        24\n",
      "weighted avg       0.92      0.92      0.91        24\n",
      "\n"
     ]
    }
   ],
   "source": [
    "## Evaluate the model using a confusion matrix\n",
    "\n",
    "print(confusion_matrix(y_test, y_pred))\n",
    "print(classification_report(y_test, y_pred))"
   ]
  },
  {
   "cell_type": "code",
   "execution_count": 88,
   "metadata": {},
   "outputs": [],
   "source": [
    "from sklearn.metrics import roc_curve\n",
    "from sklearn.metrics import roc_auc_score\n",
    "from matplotlib import pyplot"
   ]
  },
  {
   "cell_type": "code",
   "execution_count": 92,
   "metadata": {},
   "outputs": [
    {
     "data": {
      "text/plain": [
       "0.8333333333333333"
      ]
     },
     "execution_count": 92,
     "metadata": {},
     "output_type": "execute_result"
    }
   ],
   "source": [
    "# Predict probabilities\n",
    "lr_probs = clf.predict_proba(X_test)\n",
    "\n",
    "# Keep probabilities for the positive outcome only\n",
    "lr_probs = lr_probs[:, 1]\n",
    "\n",
    "# Calculate scores\n",
    "lr_auc = roc_auc_score(y_test, lr_probs)\n",
    "lr_auc"
   ]
  },
  {
   "cell_type": "code",
   "execution_count": 93,
   "metadata": {},
   "outputs": [],
   "source": [
    "# Calculate roc curves\n",
    "lr_fpr, lr_tpr, _ = roc_curve(y_test, lr_probs)"
   ]
  },
  {
   "cell_type": "code",
   "execution_count": 95,
   "metadata": {},
   "outputs": [
    {
     "data": {
      "image/png": "[encoded data removed]",
      "text/plain": [
       "<Figure size 432x288 with 1 Axes>"
      ]
     },
     "metadata": {},
     "output_type": "display_data"
    }
   ],
   "source": [
    "# Plot the ROC curve\n",
    "pyplot.plot(lr_fpr, lr_tpr, marker='.', label='Decision Tree ROC Curve')\n",
    "\n",
    "# Axis labels\n",
    "pyplot.xlabel('False Positive Rate')\n",
    "pyplot.ylabel('True Positive Rate')\n",
    "\n",
    "# Show the legend\n",
    "pyplot.legend()\n",
    "\n",
    "# Show the plot\n",
    "pyplot.show()"
   ]
  }
 ],
 "metadata": {
  "kernelspec": {
   "display_name": "Python 3",
   "language": "python",
   "name": "python3"
  },
  "language_info": {
   "codemirror_mode": {
    "name": "ipython",
    "version": 3
   },
   "file_extension": ".py",
   "mimetype": "text/x-python",
   "name": "python",
   "nbconvert_exporter": "python",
   "pygments_lexer": "ipython3",
   "version": "3.7.1"
  }
 },
 "nbformat": 4,
 "nbformat_minor": 4
}
